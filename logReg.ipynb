{
 "cells": [
  {
   "cell_type": "code",
   "execution_count": 90,
   "id": "5760d910-6aa2-4d55-85af-8ab8df82a235",
   "metadata": {},
   "outputs": [
    {
     "name": "stdout",
     "output_type": "stream",
     "text": [
      "C:\\Users\\ASUS\n"
     ]
    }
   ],
   "source": [
    "import os\n",
    "print(os.getcwd())"
   ]
  },
  {
   "cell_type": "code",
   "execution_count": 91,
   "id": "c0ca95d7-9b04-4022-99da-3462c0765f45",
   "metadata": {},
   "outputs": [],
   "source": [
    "import pandas as pd\n",
    "import numpy as np\n",
    "import matplotlib.pyplot as plt\n",
    "from sklearn.linear_model import LogisticRegression\n",
    "from sklearn.model_selection import train_test_split"
   ]
  },
  {
   "cell_type": "code",
   "execution_count": 92,
   "id": "0b273d10-ac03-48bb-bd62-7c12d4bbed25",
   "metadata": {},
   "outputs": [],
   "source": [
    "# Veri setini okuma\n",
    "df = pd.read_csv('student_depression_dataset.csv')"
   ]
  },
  {
   "cell_type": "code",
   "execution_count": 93,
   "id": "52e71b17-c83e-4466-bb77-6ec563083ea2",
   "metadata": {},
   "outputs": [
    {
     "name": "stdout",
     "output_type": "stream",
     "text": [
      "   id Gender   Age           City Profession  Academic Pressure  \\\n",
      "0   2   Male  33.0  Visakhapatnam    Student                5.0   \n",
      "\n",
      "   Work Pressure  CGPA  Study Satisfaction  Job Satisfaction Sleep Duration  \\\n",
      "0            0.0  8.97                 2.0               0.0    '5-6 hours'   \n",
      "\n",
      "  Dietary Habits   Degree Have you ever had suicidal thoughts ?  \\\n",
      "0        Healthy  B.Pharm                                   Yes   \n",
      "\n",
      "   Work/Study Hours Financial Stress Family History of Mental Illness  \\\n",
      "0               3.0              1.0                               No   \n",
      "\n",
      "   Depression  \n",
      "0           1  \n"
     ]
    }
   ],
   "source": [
    "# Veri setinin ilk birkaç satırı\n",
    "print(df.head(1))"
   ]
  },
  {
   "cell_type": "code",
   "execution_count": 94,
   "id": "794cb9f5-cf88-4382-b000-99f625883241",
   "metadata": {},
   "outputs": [
    {
     "name": "stdout",
     "output_type": "stream",
     "text": [
      "<class 'pandas.core.frame.DataFrame'>\n",
      "RangeIndex: 27901 entries, 0 to 27900\n",
      "Data columns (total 18 columns):\n",
      " #   Column                                 Non-Null Count  Dtype  \n",
      "---  ------                                 --------------  -----  \n",
      " 0   id                                     27901 non-null  int64  \n",
      " 1   Gender                                 27901 non-null  object \n",
      " 2   Age                                    27901 non-null  float64\n",
      " 3   City                                   27901 non-null  object \n",
      " 4   Profession                             27901 non-null  object \n",
      " 5   Academic Pressure                      27901 non-null  float64\n",
      " 6   Work Pressure                          27901 non-null  float64\n",
      " 7   CGPA                                   27901 non-null  float64\n",
      " 8   Study Satisfaction                     27901 non-null  float64\n",
      " 9   Job Satisfaction                       27901 non-null  float64\n",
      " 10  Sleep Duration                         27901 non-null  object \n",
      " 11  Dietary Habits                         27901 non-null  object \n",
      " 12  Degree                                 27901 non-null  object \n",
      " 13  Have you ever had suicidal thoughts ?  27901 non-null  object \n",
      " 14  Work/Study Hours                       27901 non-null  float64\n",
      " 15  Financial Stress                       27901 non-null  object \n",
      " 16  Family History of Mental Illness       27901 non-null  object \n",
      " 17  Depression                             27901 non-null  int64  \n",
      "dtypes: float64(7), int64(2), object(9)\n",
      "memory usage: 3.8+ MB\n",
      "None\n"
     ]
    }
   ],
   "source": [
    "print(df.info())"
   ]
  },
  {
   "cell_type": "code",
   "execution_count": 95,
   "id": "6b06ad7b-015e-4130-a29d-e1658df38a51",
   "metadata": {},
   "outputs": [
    {
     "name": "stdout",
     "output_type": "stream",
     "text": [
      "id                                       0\n",
      "Gender                                   0\n",
      "Age                                      0\n",
      "City                                     0\n",
      "Profession                               0\n",
      "Academic Pressure                        0\n",
      "Work Pressure                            0\n",
      "CGPA                                     0\n",
      "Study Satisfaction                       0\n",
      "Job Satisfaction                         0\n",
      "Sleep Duration                           0\n",
      "Dietary Habits                           0\n",
      "Degree                                   0\n",
      "Have you ever had suicidal thoughts ?    0\n",
      "Work/Study Hours                         0\n",
      "Financial Stress                         0\n",
      "Family History of Mental Illness         0\n",
      "Depression                               0\n",
      "dtype: int64\n"
     ]
    }
   ],
   "source": [
    "print(df.isnull().sum())"
   ]
  },
  {
   "cell_type": "code",
   "execution_count": 96,
   "id": "d28fa7f5-0452-491e-8dad-d8b66c7c7a64",
   "metadata": {},
   "outputs": [],
   "source": [
    "df=df.drop(\"id\",axis=1)"
   ]
  },
  {
   "cell_type": "code",
   "execution_count": 97,
   "id": "5d6f8590-2244-4db6-9699-2932d47eb094",
   "metadata": {},
   "outputs": [],
   "source": [
    "categorical_cols = ['Gender', 'City', 'Profession', 'Academic Pressure',\n",
    "                    'Work Pressure', 'Sleep Duration', 'Dietary Habits',\n",
    "                    'Have you ever had suicidal thoughts ?', 'Financial Stress',\n",
    "                    'Family History of Mental Illness','Degree']\n",
    "df = pd.get_dummies(df, columns=categorical_cols, drop_first=True)"
   ]
  },
  {
   "cell_type": "code",
   "execution_count": 98,
   "id": "09567b4e-309b-4c51-83d9-7ab9f742667a",
   "metadata": {},
   "outputs": [
    {
     "name": "stdout",
     "output_type": "stream",
     "text": [
      "    Age  CGPA  Study Satisfaction  Job Satisfaction  Work/Study Hours  \\\n",
      "0  33.0  8.97                 2.0               0.0               3.0   \n",
      "1  24.0  5.90                 5.0               0.0               3.0   \n",
      "2  31.0  7.03                 5.0               0.0               9.0   \n",
      "3  28.0  5.59                 2.0               0.0               4.0   \n",
      "4  25.0  8.13                 3.0               0.0               1.0   \n",
      "\n",
      "   Depression  Gender_Male  City_'Less than 5 Kalyan'  City_3.0  City_Agra  \\\n",
      "0           1         True                      False     False      False   \n",
      "1           0        False                      False     False      False   \n",
      "2           0         True                      False     False      False   \n",
      "3           1        False                      False     False      False   \n",
      "4           0        False                      False     False      False   \n",
      "\n",
      "   ...  Degree_MA  Degree_MBA  Degree_MBBS  Degree_MCA  Degree_MD  Degree_ME  \\\n",
      "0  ...      False       False        False       False      False      False   \n",
      "1  ...      False       False        False       False      False      False   \n",
      "2  ...      False       False        False       False      False      False   \n",
      "3  ...      False       False        False       False      False      False   \n",
      "4  ...      False       False        False       False      False      False   \n",
      "\n",
      "   Degree_MHM  Degree_MSc  Degree_Others  Degree_PhD  \n",
      "0       False       False          False       False  \n",
      "1       False       False          False       False  \n",
      "2       False       False          False       False  \n",
      "3       False       False          False       False  \n",
      "4       False       False          False       False  \n",
      "\n",
      "[5 rows x 119 columns]\n",
      "<class 'pandas.core.frame.DataFrame'>\n",
      "RangeIndex: 27901 entries, 0 to 27900\n",
      "Columns: 119 entries, Age to Degree_PhD\n",
      "dtypes: bool(113), float64(5), int64(1)\n",
      "memory usage: 4.3 MB\n",
      "None\n",
      "['Age', 'CGPA', 'Study Satisfaction', 'Job Satisfaction', 'Work/Study Hours', 'Depression', 'Gender_Male', \"City_'Less than 5 Kalyan'\", 'City_3.0', 'City_Agra', 'City_Ahmedabad', 'City_Bangalore', 'City_Bhavna', 'City_Bhopal', 'City_Chennai', 'City_City', 'City_Delhi', 'City_Faridabad', 'City_Gaurav', 'City_Ghaziabad', 'City_Harsh', 'City_Harsha', 'City_Hyderabad', 'City_Indore', 'City_Jaipur', 'City_Kalyan', 'City_Kanpur', 'City_Khaziabad', 'City_Kibara', 'City_Kolkata', 'City_Lucknow', 'City_Ludhiana', 'City_M.Com', 'City_M.Tech', 'City_ME', 'City_Meerut', 'City_Mihir', 'City_Mira', 'City_Mumbai', 'City_Nagpur', 'City_Nalini', 'City_Nalyan', 'City_Nandini', 'City_Nashik', 'City_Patna', 'City_Pune', 'City_Rajkot', 'City_Rashi', 'City_Reyansh', 'City_Saanvi', 'City_Srinagar', 'City_Surat', 'City_Thane', 'City_Vaanya', 'City_Vadodara', 'City_Varanasi', 'City_Vasai-Virar', 'City_Visakhapatnam', \"Profession_'Content Writer'\", \"Profession_'Digital Marketer'\", \"Profession_'Educational Consultant'\", \"Profession_'UX/UI Designer'\", 'Profession_Architect', 'Profession_Chef', 'Profession_Doctor', 'Profession_Entrepreneur', 'Profession_Lawyer', 'Profession_Manager', 'Profession_Pharmacist', 'Profession_Student', 'Profession_Teacher', 'Academic Pressure_1.0', 'Academic Pressure_2.0', 'Academic Pressure_3.0', 'Academic Pressure_4.0', 'Academic Pressure_5.0', 'Work Pressure_2.0', 'Work Pressure_5.0', \"Sleep Duration_'7-8 hours'\", \"Sleep Duration_'Less than 5 hours'\", \"Sleep Duration_'More than 8 hours'\", 'Sleep Duration_Others', 'Dietary Habits_Moderate', 'Dietary Habits_Others', 'Dietary Habits_Unhealthy', 'Have you ever had suicidal thoughts ?_Yes', 'Financial Stress_2.0', 'Financial Stress_3.0', 'Financial Stress_4.0', 'Financial Stress_5.0', 'Financial Stress_?', 'Family History of Mental Illness_Yes', 'Degree_B.Arch', 'Degree_B.Com', 'Degree_B.Ed', 'Degree_B.Pharm', 'Degree_B.Tech', 'Degree_BA', 'Degree_BBA', 'Degree_BCA', 'Degree_BE', 'Degree_BHM', 'Degree_BSc', 'Degree_LLB', 'Degree_LLM', 'Degree_M.Com', 'Degree_M.Ed', 'Degree_M.Pharm', 'Degree_M.Tech', 'Degree_MA', 'Degree_MBA', 'Degree_MBBS', 'Degree_MCA', 'Degree_MD', 'Degree_ME', 'Degree_MHM', 'Degree_MSc', 'Degree_Others', 'Degree_PhD']\n"
     ]
    }
   ],
   "source": [
    "print(df.head())\n",
    "print(df.info())\n",
    "print(df.columns.tolist()) # Tüm sütun isimlerini listele"
   ]
  },
  {
   "cell_type": "code",
   "execution_count": 99,
   "id": "0c924104-cdc4-48de-a30c-5c441c1058e2",
   "metadata": {},
   "outputs": [],
   "source": [
    "y=df[\"Depression\"]\n",
    "x=df.drop(\"Depression\",axis=1)"
   ]
  },
  {
   "cell_type": "code",
   "execution_count": 100,
   "id": "0927e98e-f5ba-49c7-8a37-0514033ede2f",
   "metadata": {},
   "outputs": [
    {
     "name": "stdout",
     "output_type": "stream",
     "text": [
      "(27901, 118)\n",
      "(27901,)\n",
      "int64\n",
      "[1 0]\n"
     ]
    }
   ],
   "source": [
    " print(x.shape)\n",
    "print(y.shape)\n",
    "print(y.dtype)\n",
    "print(y.unique()) # y'deki benzersiz değerleri gör"
   ]
  },
  {
   "cell_type": "code",
   "execution_count": 101,
   "id": "d6055079-59cb-4fed-a89e-08c0260df406",
   "metadata": {},
   "outputs": [],
   "source": [
    "x_train,x_test,y_train,y_test=train_test_split(x,y,train_size=0.75,random_state=11)"
   ]
  },
  {
   "cell_type": "code",
   "execution_count": 104,
   "id": "38dd9091-f879-4e83-8520-8f67c787c970",
   "metadata": {},
   "outputs": [
    {
     "name": "stdout",
     "output_type": "stream",
     "text": [
      "Model başarıyla eğitildi (max_iter artırıldı)!\n"
     ]
    }
   ],
   "source": [
    "model = LogisticRegression(max_iter=1000) # Varsayılan 100 olabilir, biz 1000'e çıkarıyoruz\n",
    "model.fit(x_train, y_train) # Modeli burada eğitirsin\n",
    "\n",
    "print(\"Model başarıyla eğitildi (max_iter artırıldı)!\")"
   ]
  },
  {
   "cell_type": "code",
   "execution_count": 105,
   "id": "30064a3a-9d0c-4b42-b0d8-1c0d739c859a",
   "metadata": {},
   "outputs": [
    {
     "data": {
      "text/plain": [
       "0.8456135321100917"
      ]
     },
     "execution_count": 105,
     "metadata": {},
     "output_type": "execute_result"
    }
   ],
   "source": [
    "model.score(x_test,y_test)"
   ]
  },
  {
   "cell_type": "code",
   "execution_count": null,
   "id": "f78d3142-c199-43d5-acd5-3365a65ce740",
   "metadata": {},
   "outputs": [],
   "source": []
  }
 ],
 "metadata": {
  "kernelspec": {
   "display_name": "Python [conda env:base] *",
   "language": "python",
   "name": "conda-base-py"
  },
  "language_info": {
   "codemirror_mode": {
    "name": "ipython",
    "version": 3
   },
   "file_extension": ".py",
   "mimetype": "text/x-python",
   "name": "python",
   "nbconvert_exporter": "python",
   "pygments_lexer": "ipython3",
   "version": "3.12.7"
  }
 },
 "nbformat": 4,
 "nbformat_minor": 5
}
